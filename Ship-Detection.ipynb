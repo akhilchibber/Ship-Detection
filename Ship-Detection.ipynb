{
 "cells": [
  {
   "cell_type": "markdown",
   "metadata": {
    "_cell_guid": "e3994f16-0d15-42ec-8e8b-13a3882d3392",
    "_uuid": "b453d6d4da93b25042c2b1556a8ca973b4b302b8"
   },
   "source": [
    "This notebook demonstrates how to train a convolutional neural network model using Keras library.\n",
    "\n",
    "First of all import all libraries."
   ]
  },
  {
   "cell_type": "code",
   "execution_count": 1,
   "metadata": {
    "_cell_guid": "8a08a132-a137-4329-83f4-1bc92624ee25",
    "_uuid": "589516f91819931fd0dda8cabc34f9a1e32cd582"
   },
   "outputs": [
    {
     "name": "stderr",
     "output_type": "stream",
     "text": [
      "Using TensorFlow backend.\n"
     ]
    }
   ],
   "source": [
    "import json\n",
    "import numpy as np\n",
    "from matplotlib import pyplot as plt\n",
    "from keras.utils.np_utils import to_categorical\n",
    "\n",
    "from keras.models import Sequential\n",
    "from keras.layers.core import Flatten, Dense, Dropout, Lambda\n",
    "from keras.layers.convolutional import Conv2D, MaxPooling2D\n",
    "from keras.optimizers import Adam, SGD"
   ]
  },
  {
   "cell_type": "markdown",
   "metadata": {
    "_cell_guid": "4ec91a0d-16fa-4f32-b3c9-71fc3d615c10",
    "_uuid": "3d9cb0eda7a03bfb9631a8069423a314595d62a9"
   },
   "source": [
    "Load json file."
   ]
  },
  {
   "cell_type": "code",
   "execution_count": 2,
   "metadata": {
    "_cell_guid": "0f15151b-f972-4a8a-8db0-77e6e62194d9",
    "_uuid": "a36344428ff4a1abe2b3ba333062e5dc0a100105",
    "collapsed": true
   },
   "outputs": [],
   "source": [
    "f = open(r'../input/shipsnet.json')\n",
    "dataset = json.load(f)\n",
    "f.close()"
   ]
  },
  {
   "cell_type": "markdown",
   "metadata": {
    "_cell_guid": "80ca2e88-5f1a-41bf-8b6f-a10e5ca27070",
    "_uuid": "b889529a04207e88f28b2b396dc0f4368100db33"
   },
   "source": [
    "Convert data from list to np.array."
   ]
  },
  {
   "cell_type": "code",
   "execution_count": 3,
   "metadata": {
    "_cell_guid": "6bfc492c-8504-4f4c-90f0-83e99d0db6d7",
    "_uuid": "166f00c4aaad36e762713cdbc85d86d615ffd448",
    "collapsed": true
   },
   "outputs": [],
   "source": [
    "data = np.array(dataset['data']).astype('uint8')\n",
    "labels = np.array(dataset['labels']).astype('uint8')"
   ]
  },
  {
   "cell_type": "markdown",
   "metadata": {
    "_cell_guid": "f9a26e28-5057-4e6f-9941-6f204f54768c",
    "_uuid": "c4a204543d43c6c4c806901017de4831e6bf768c"
   },
   "source": [
    "View shape of data."
   ]
  },
  {
   "cell_type": "code",
   "execution_count": 4,
   "metadata": {
    "_cell_guid": "77180bc4-15a3-4f15-89d9-98deb372f96a",
    "_uuid": "fed4a96ee6984d858a3be91fe0627022b31042c5"
   },
   "outputs": [
    {
     "name": "stdout",
     "output_type": "stream",
     "text": [
      "(2000, 19200)\n",
      "(2000,)\n"
     ]
    }
   ],
   "source": [
    "print(data.shape)\n",
    "print(labels.shape)"
   ]
  },
  {
   "cell_type": "markdown",
   "metadata": {
    "_cell_guid": "ee77bd3f-07a6-4b6e-ad07-d490422b69c8",
    "_uuid": "a149e859c33de453c305377bdf315c78b23f0cec"
   },
   "source": [
    "Normalize data and transform data for keras model training."
   ]
  },
  {
   "cell_type": "code",
   "execution_count": 5,
   "metadata": {
    "_cell_guid": "c06f892e-957e-46dc-914f-a30b0e23002f",
    "_uuid": "512e55af698c914202fb140cb5432ddd8e8d5497"
   },
   "outputs": [
    {
     "name": "stdout",
     "output_type": "stream",
     "text": [
      "(2000, 80, 80, 3)\n"
     ]
    }
   ],
   "source": [
    "x = data / 255.\n",
    "x = x.reshape([-1, 3, 80, 80]).transpose([0,2,3,1])\n",
    "\n",
    "print(x.shape)"
   ]
  },
  {
   "cell_type": "code",
   "execution_count": 6,
   "metadata": {
    "_cell_guid": "4c7bc5db-0654-4ccc-aaa2-0d533f6e414a",
    "_uuid": "9a4cd07805fd4ae8fb3d517faa908892f7dc607c"
   },
   "outputs": [
    {
     "name": "stdout",
     "output_type": "stream",
     "text": [
      "(2000, 2)\n"
     ]
    }
   ],
   "source": [
    "y = to_categorical(labels, num_classes=2)\n",
    "print(y.shape)"
   ]
  },
  {
   "cell_type": "markdown",
   "metadata": {
    "_cell_guid": "ad0f2c4f-88fb-438a-bb64-910f3d8a797f",
    "_uuid": "671dd563e3d5844a4fe7e5104712f6efde0ad5d9"
   },
   "source": [
    "View image and labels."
   ]
  },
  {
   "cell_type": "code",
   "execution_count": 7,
   "metadata": {
    "_cell_guid": "0708e77f-a47f-48c2-9099-574b77f3a3f3",
    "_uuid": "6cedc6b663fededf21c9b9d60a03d1f17ea5aead"
   },
   "outputs": [
    {
     "name": "stdout",
     "output_type": "stream",
     "text": [
      "1279\n",
      "[ 1.  0.]\n"
     ]
    },
    {
     "data": {
      "image/png": "[encoded data removed]",
      "text/plain": [
       "<matplotlib.figure.Figure at 0x7f37a120e940>"
      ]
     },
     "metadata": {},
     "output_type": "display_data"
    }
   ],
   "source": [
    "img_id_to_check = np.random.randint(0, x.shape[0] - 1)\n",
    "im = x[img_id_to_check]\n",
    "\n",
    "print(img_id_to_check)\n",
    "print(y[img_id_to_check])\n",
    "\n",
    "plt.imshow(im)\n",
    "plt.show()"
   ]
  },
  {
   "cell_type": "markdown",
   "metadata": {
    "_cell_guid": "a9ffc217-b89d-4afa-8984-c89ad2921f2e",
    "_uuid": "2bcd5fcb57c4d43a0f748da5249d3b53b28428b3"
   },
   "source": [
    "Create sequential model."
   ]
  },
  {
   "cell_type": "code",
   "execution_count": 8,
   "metadata": {
    "_cell_guid": "4c36b24a-b7f1-48df-8169-a136d2e6a013",
    "_uuid": "f29ef147c0d65f40c3b775b4fb429f2bf1c233b3",
    "collapsed": true
   },
   "outputs": [],
   "source": [
    "model = Sequential()\n",
    "model.add(Conv2D(32, (3, 3), padding=\"same\", input_shape=(80, 80, 3), activation='relu'))\n",
    "model.add(Conv2D(32, (3, 3), activation='relu'))\n",
    "model.add(MaxPooling2D(pool_size=(2, 2)))\n",
    "model.add(Dropout(0.2))\n",
    "\n",
    "model.add(Conv2D(64, (3, 3), padding=\"same\", activation='relu'))\n",
    "model.add(Conv2D(64, (3, 3), activation='relu'))\n",
    "model.add(MaxPooling2D(pool_size=(2, 2)))\n",
    "#model.add(Dropout(0.2))\n",
    "\n",
    "# model.add(Conv2D(128, (3, 3), padding=\"same\", activation='relu'))\n",
    "# model.add(Conv2D(128, (3, 3), activation='relu'))\n",
    "# model.add(MaxPooling2D(pool_size=(2, 2)))\n",
    "# model.add(Dropout(0.2))\n",
    "\n",
    "model.add(Flatten())\n",
    "model.add(Dense(512, activation='relu'))\n",
    "model.add(Dropout(0.2))\n",
    "model.add(Dense(2, activation='softmax'))\n",
    "\n",
    "model.compile(loss='categorical_crossentropy', optimizer=SGD(lr=0.01, momentum=0.9, nesterov=True), \n",
    "              metrics=['accuracy'])"
   ]
  },
  {
   "cell_type": "markdown",
   "metadata": {
    "_cell_guid": "9bfae72c-4f89-4415-9247-cde64edf2942",
    "_uuid": "4d866d4572e83673e9075ea15e9f4124c6d36ff6"
   },
   "source": [
    "Train model with 20 % of data used for validation."
   ]
  },
  {
   "cell_type": "code",
   "execution_count": 9,
   "metadata": {
    "_cell_guid": "64df1e5b-7b01-4c04-a5d3-1ec03a844020",
    "_uuid": "fd4daa6bf6166cc3af8066244c940a597570b0db",
    "collapsed": true
   },
   "outputs": [
    {
     "name": "stdout",
     "output_type": "stream",
     "text": [
      "Train on 1600 samples, validate on 400 samples\n",
      "Epoch 1/20\n",
      "1600/1600 [==============================] - 75s - loss: 0.4954 - acc: 0.7894 - val_loss: 0.1092 - val_acc: 0.9725\n",
      "Epoch 2/20\n",
      "1600/1600 [==============================] - 95s - loss: 0.1349 - acc: 0.9594 - val_loss: 0.0518 - val_acc: 0.9900\n",
      "Epoch 3/20\n",
      "1600/1600 [==============================] - 88s - loss: 0.0876 - acc: 0.9769 - val_loss: 0.0265 - val_acc: 0.9950\n",
      "Epoch 4/20\n",
      "1600/1600 [==============================] - 87s - loss: 0.1050 - acc: 0.9756 - val_loss: 0.0545 - val_acc: 0.9950\n",
      "Epoch 5/20\n",
      "1600/1600 [==============================] - 89s - loss: 0.0647 - acc: 0.9838 - val_loss: 0.0086 - val_acc: 0.9975\n",
      "Epoch 6/20\n",
      "1600/1600 [==============================] - 96s - loss: 0.0575 - acc: 0.9825 - val_loss: 0.0249 - val_acc: 0.9950\n",
      "Epoch 7/20\n",
      "1600/1600 [==============================] - 105s - loss: 0.0374 - acc: 0.9875 - val_loss: 0.0222 - val_acc: 0.9950\n",
      "Epoch 8/20\n",
      "1600/1600 [==============================] - 105s - loss: 0.0441 - acc: 0.9869 - val_loss: 0.0342 - val_acc: 0.9950\n",
      "Epoch 9/20\n",
      "1600/1600 [==============================] - 100s - loss: 0.0286 - acc: 0.9925 - val_loss: 0.0189 - val_acc: 0.9950\n",
      "Epoch 10/20\n",
      "1600/1600 [==============================] - 103s - loss: 0.0207 - acc: 0.9938 - val_loss: 0.0421 - val_acc: 0.9950\n",
      "Epoch 11/20\n",
      "1600/1600 [==============================] - 95s - loss: 0.0160 - acc: 0.9950 - val_loss: 0.0304 - val_acc: 0.9950\n",
      "Epoch 12/20\n",
      "1600/1600 [==============================] - 81s - loss: 0.0147 - acc: 0.9944 - val_loss: 0.0231 - val_acc: 0.9950\n",
      "Epoch 13/20\n",
      "1600/1600 [==============================] - 76s - loss: 0.0206 - acc: 0.9950 - val_loss: 0.0196 - val_acc: 0.9950\n",
      "Epoch 14/20\n",
      "1600/1600 [==============================] - 80s - loss: 0.0162 - acc: 0.9969 - val_loss: 0.0237 - val_acc: 0.9950\n",
      "Epoch 15/20\n",
      "1600/1600 [==============================] - 80s - loss: 0.0138 - acc: 0.9963 - val_loss: 0.0374 - val_acc: 0.9950\n",
      "Epoch 16/20\n",
      "1600/1600 [==============================] - 57s - loss: 0.0097 - acc: 0.9963 - val_loss: 0.0385 - val_acc: 0.9950\n",
      "Epoch 17/20\n",
      "1600/1600 [==============================] - 51s - loss: 0.0158 - acc: 0.9944 - val_loss: 0.0336 - val_acc: 0.9925\n",
      "Epoch 18/20\n",
      "1600/1600 [==============================] - 60s - loss: 0.0087 - acc: 0.9981 - val_loss: 0.0337 - val_acc: 0.9950\n",
      "Epoch 19/20\n",
      "1600/1600 [==============================] - 62s - loss: 0.0089 - acc: 0.9981 - val_loss: 0.0445 - val_acc: 0.9950\n",
      "Epoch 20/20\n",
      "1600/1600 [==============================] - 55s - loss: 0.0100 - acc: 0.9969 - val_loss: 0.0222 - val_acc: 0.9950\n"
     ]
    }
   ],
   "source": [
    "history = model.fit(x, y, batch_size=32, epochs=20, validation_split=0.2)"
   ]
  },
  {
   "cell_type": "markdown",
   "metadata": {
    "_cell_guid": "f672da88-73a2-40ab-bf42-e1ec2975e6c1",
    "_uuid": "500d932f677818c59a74b2155666a10a72cb1d7d"
   },
   "source": [
    "View model training accuracy graph."
   ]
  },
  {
   "cell_type": "code",
   "execution_count": 10,
   "metadata": {
    "_cell_guid": "81a79192-495d-4b3f-aed7-f5483761818b",
    "_uuid": "23996c7e6020dcb9ab0223d38525cdac0a7a03b2",
    "collapsed": true
   },
   "outputs": [
    {
     "data": {
      "image/png": "[encoded data removed]",
      "text/plain": [
       "<matplotlib.figure.Figure at 0x7f3784539710>"
      ]
     },
     "metadata": {},
     "output_type": "display_data"
    }
   ],
   "source": [
    "plt.plot(history.history['acc'])\n",
    "plt.plot(history.history['val_acc'])\n",
    "plt.title('model accuracy')\n",
    "plt.ylabel('accuracy')\n",
    "plt.xlabel('epoch')\n",
    "plt.legend(['train', 'test'], loc='upper left')\n",
    "plt.show()"
   ]
  },
  {
   "cell_type": "markdown",
   "metadata": {
    "_cell_guid": "b20d502a-ed40-4d13-bc10-318e336b8185",
    "_uuid": "c4ff63fc479534a45d8fa4c5e25be7b6cee102f5"
   },
   "source": [
    "View model training loss graph."
   ]
  },
  {
   "cell_type": "code",
   "execution_count": 11,
   "metadata": {
    "_cell_guid": "404a856e-6f2b-4f88-b613-eeba6e60bba4",
    "_uuid": "74577e8ce1340c597ae323ec0d237628177fc474",
    "collapsed": true
   },
   "outputs": [
    {
     "data": {
      "image/png": "[encoded data removed]",
      "text/plain": [
       "<matplotlib.figure.Figure at 0x7f3788b12a58>"
      ]
     },
     "metadata": {},
     "output_type": "display_data"
    }
   ],
   "source": [
    "plt.plot(history.history['loss'])\n",
    "plt.plot(history.history['val_loss'])\n",
    "plt.title('model loss')\n",
    "plt.ylabel('loss')\n",
    "plt.xlabel('epoch')\n",
    "plt.legend(['train', 'test'], loc='upper left')\n",
    "plt.show()"
   ]
  }
 ],
 "metadata": {
  "kernelspec": {
   "display_name": "Python 3",
   "language": "python",
   "name": "python3"
  },
  "language_info": {
   "codemirror_mode": {
    "name": "ipython",
    "version": 3
   },
   "file_extension": ".py",
   "mimetype": "text/x-python",
   "name": "python",
   "nbconvert_exporter": "python",
   "pygments_lexer": "ipython3",
   "version": "3.6.1"
  }
 },
 "nbformat": 4,
 "nbformat_minor": 1
}
